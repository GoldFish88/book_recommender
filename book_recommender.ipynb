{
  "cells": [
    {
      "cell_type": "code",
      "source": [
        "from google.colab import drive\n",
        "drive.mount('/content/drive')"
      ],
      "metadata": {
        "colab": {
          "base_uri": "https://localhost:8080/"
        },
        "id": "ZKDDsMuX9Ps9",
        "outputId": "2de5c45e-cce4-4b09-dd36-1c74bc715e66"
      },
      "execution_count": 1,
      "outputs": [
        {
          "output_type": "stream",
          "name": "stdout",
          "text": [
            "Drive already mounted at /content/drive; to attempt to forcibly remount, call drive.mount(\"/content/drive\", force_remount=True).\n"
          ]
        }
      ]
    },
    {
      "cell_type": "code",
      "source": [
        "import pandas as pd\n",
        "import numpy as  np\n",
        "import matplotlib.pyplot as plt\n",
        "import seaborn as sns"
      ],
      "metadata": {
        "id": "XD9HfmH_9X7S"
      },
      "execution_count": 2,
      "outputs": []
    },
    {
      "cell_type": "markdown",
      "source": [
        "## Dataset\n"
      ],
      "metadata": {
        "id": "8kVbfvPDKHhH"
      }
    },
    {
      "cell_type": "code",
      "source": [
        "# load datasets\n",
        "books = pd.read_csv('/content/drive/MyDrive/colab_notebooks/data/Books.csv')\n",
        "ratings = pd.read_csv('/content/drive/MyDrive/colab_notebooks/data/Ratings.csv')\n",
        "users = pd.read_csv('/content/drive/MyDrive/colab_notebooks/data/Users.csv')"
      ],
      "metadata": {
        "colab": {
          "base_uri": "https://localhost:8080/"
        },
        "id": "UFQqvQDv9Zkg",
        "outputId": "d6d08010-ce7b-4490-ddb5-3d738c8f9e68"
      },
      "execution_count": 3,
      "outputs": [
        {
          "output_type": "stream",
          "name": "stderr",
          "text": [
            "/usr/local/lib/python3.7/dist-packages/IPython/core/interactiveshell.py:3457: DtypeWarning: Columns (3) have mixed types.Specify dtype option on import or set low_memory=False.\n",
            "  exec(code_obj, self.user_global_ns, self.user_ns)\n"
          ]
        }
      ]
    },
    {
      "cell_type": "code",
      "source": [
        "print(books.shape)\n",
        "books.rename(columns = {'ISBN':'isbn', 'Book-Title':'book_title'}, inplace=True)\n",
        "\n",
        "print(books.info())"
      ],
      "metadata": {
        "colab": {
          "base_uri": "https://localhost:8080/"
        },
        "id": "2pNYf4RA-WG1",
        "outputId": "a5e8369b-6f3f-4b0e-805e-218572b8ff7e"
      },
      "execution_count": 36,
      "outputs": [
        {
          "output_type": "stream",
          "name": "stdout",
          "text": [
            "(271360, 8)\n",
            "<class 'pandas.core.frame.DataFrame'>\n",
            "RangeIndex: 271360 entries, 0 to 271359\n",
            "Data columns (total 8 columns):\n",
            " #   Column               Non-Null Count   Dtype \n",
            "---  ------               --------------   ----- \n",
            " 0   isbn                 271360 non-null  object\n",
            " 1   book_title           271360 non-null  object\n",
            " 2   Book-Author          271359 non-null  object\n",
            " 3   Year-Of-Publication  271360 non-null  object\n",
            " 4   Publisher            271358 non-null  object\n",
            " 5   Image-URL-S          271360 non-null  object\n",
            " 6   Image-URL-M          271360 non-null  object\n",
            " 7   Image-URL-L          271357 non-null  object\n",
            "dtypes: object(8)\n",
            "memory usage: 16.6+ MB\n",
            "None\n"
          ]
        }
      ]
    },
    {
      "cell_type": "code",
      "source": [
        "print(ratings.shape)\n",
        "ratings.columns = ['user_id','isbn','rating']\n",
        "\n",
        "print(ratings.info())"
      ],
      "metadata": {
        "colab": {
          "base_uri": "https://localhost:8080/"
        },
        "id": "0zXhXDLG-cr_",
        "outputId": "8cefac58-be6c-41a1-dfd3-6c710cea9175"
      },
      "execution_count": 5,
      "outputs": [
        {
          "output_type": "stream",
          "name": "stdout",
          "text": [
            "(1149780, 3)\n",
            "<class 'pandas.core.frame.DataFrame'>\n",
            "RangeIndex: 1149780 entries, 0 to 1149779\n",
            "Data columns (total 3 columns):\n",
            " #   Column   Non-Null Count    Dtype \n",
            "---  ------   --------------    ----- \n",
            " 0   user_id  1149780 non-null  int64 \n",
            " 1   isbn     1149780 non-null  object\n",
            " 2   rating   1149780 non-null  int64 \n",
            "dtypes: int64(2), object(1)\n",
            "memory usage: 26.3+ MB\n",
            "None\n"
          ]
        }
      ]
    },
    {
      "cell_type": "code",
      "source": [
        "print(users.shape)\n",
        "users.columns = ['user_id','location', 'age']\n",
        "print(users.info())"
      ],
      "metadata": {
        "colab": {
          "base_uri": "https://localhost:8080/"
        },
        "id": "I7nEL6ZwA4XI",
        "outputId": "8ef33d50-f220-410a-f7f5-2753a0f713da"
      },
      "execution_count": 6,
      "outputs": [
        {
          "output_type": "stream",
          "name": "stdout",
          "text": [
            "(278858, 3)\n",
            "<class 'pandas.core.frame.DataFrame'>\n",
            "RangeIndex: 278858 entries, 0 to 278857\n",
            "Data columns (total 3 columns):\n",
            " #   Column    Non-Null Count   Dtype  \n",
            "---  ------    --------------   -----  \n",
            " 0   user_id   278858 non-null  int64  \n",
            " 1   location  278858 non-null  object \n",
            " 2   age       168096 non-null  float64\n",
            "dtypes: float64(1), int64(1), object(1)\n",
            "memory usage: 6.4+ MB\n",
            "None\n"
          ]
        }
      ]
    },
    {
      "cell_type": "code",
      "source": [
        "num_book_ratings = ratings.isbn.value_counts().values\n",
        "\n",
        "plt.figure(figsize=(20,6))\n",
        "plt.plot(np.arange(0,5000), num_book_ratings[:5000])"
      ],
      "metadata": {
        "colab": {
          "base_uri": "https://localhost:8080/",
          "height": 392
        },
        "id": "SARdznknEfE-",
        "outputId": "b80abbc7-08f2-4e65-87c9-c66362d55b4f"
      },
      "execution_count": 7,
      "outputs": [
        {
          "output_type": "execute_result",
          "data": {
            "text/plain": [
              "[<matplotlib.lines.Line2D at 0x7fcd36dabfd0>]"
            ]
          },
          "metadata": {},
          "execution_count": 7
        },
        {
          "output_type": "display_data",
          "data": {
            "image/png": "[encoded data removed]",
            "text/plain": [
              "<Figure size 1440x432 with 1 Axes>"
            ]
          },
          "metadata": {
            "needs_background": "light"
          }
        }
      ]
    },
    {
      "cell_type": "code",
      "source": [
        "num_ratings = ratings.user_id.value_counts().values\n",
        "\n",
        "plt.figure(figsize=(20,6))\n",
        "plt.plot(np.arange(0,5000), num_ratings[:5000])"
      ],
      "metadata": {
        "colab": {
          "base_uri": "https://localhost:8080/",
          "height": 392
        },
        "id": "i-KH6TLrF_qg",
        "outputId": "81bf36fb-2302-4535-ad07-93225c63fefb"
      },
      "execution_count": 8,
      "outputs": [
        {
          "output_type": "execute_result",
          "data": {
            "text/plain": [
              "[<matplotlib.lines.Line2D at 0x7fcd2e4c6d90>]"
            ]
          },
          "metadata": {},
          "execution_count": 8
        },
        {
          "output_type": "display_data",
          "data": {
            "image/png": "[encoded data removed]",
            "text/plain": [
              "<Figure size 1440x432 with 1 Axes>"
            ]
          },
          "metadata": {
            "needs_background": "light"
          }
        }
      ]
    },
    {
      "cell_type": "code",
      "source": [
        "import recmetrics"
      ],
      "metadata": {
        "id": "8MtsdEMWMl6H"
      },
      "execution_count": 9,
      "outputs": []
    },
    {
      "cell_type": "markdown",
      "source": [
        "## Problem\n",
        "\n",
        "* Give top N book recommendations to a particular user. \n",
        "\n",
        "We assess the quality of the recommendations \n",
        "\n",
        "## Model 1 - Collaborative filtering with filtered data as features.\n",
        "\n",
        "Following [this](https://www.analyticsvidhya.com/blog/2021/06/build-book-recommendation-system-unsupervised-learning-project/) guide, we start by training a nearest neighbor model with a sparse matrix of user-book ratings. "
      ],
      "metadata": {
        "id": "yBaxzguVBHDz"
      }
    },
    {
      "cell_type": "code",
      "source": [
        "print(\"Number of unique user_id in ratings table: \", ratings.user_id.nunique())\n",
        "print(\"Number of users with more than 5 ratings: \",(ratings.user_id.value_counts() >= 5).sum())\n",
        "print(\"Number of users with more than 10 ratings: \",(ratings.user_id.value_counts() >= 10).sum())\n",
        "print(\"Number of users with more than 20 ratings: \",(ratings.user_id.value_counts() >= 20).sum())"
      ],
      "metadata": {
        "colab": {
          "base_uri": "https://localhost:8080/"
        },
        "id": "L1pkkk6AA5-H",
        "outputId": "f4c217ac-79a8-4b68-bf3d-155609e6ba4a"
      },
      "execution_count": 10,
      "outputs": [
        {
          "output_type": "stream",
          "name": "stdout",
          "text": [
            "Number of unique user_id in ratings table:  105283\n",
            "Number of users with more than 5 ratings:  22816\n",
            "Number of users with more than 10 ratings:  13097\n",
            "Number of users with more than 20 ratings:  7369\n"
          ]
        }
      ]
    },
    {
      "cell_type": "code",
      "source": [
        "print(\"Number of unique isbn in ratings table: \", ratings.isbn.nunique())\n",
        "print(\"Number of books with more than 5 ratings: \",(ratings.isbn.value_counts() >= 5).sum())\n",
        "print(\"Number of books with more than 10 ratings: \",(ratings.isbn.value_counts() >= 10).sum())\n",
        "print(\"Number of books with more than 20 ratings: \",(ratings.isbn.value_counts() >= 20).sum())"
      ],
      "metadata": {
        "colab": {
          "base_uri": "https://localhost:8080/"
        },
        "id": "O4DTdGu9DJuj",
        "outputId": "f30e0519-8d3b-41b8-dc66-20cd23b8f555"
      },
      "execution_count": 11,
      "outputs": [
        {
          "output_type": "stream",
          "name": "stdout",
          "text": [
            "Number of unique isbn in ratings table:  340556\n",
            "Number of books with more than 5 ratings:  43765\n",
            "Number of books with more than 10 ratings:  18319\n",
            "Number of books with more than 20 ratings:  7490\n"
          ]
        }
      ]
    },
    {
      "cell_type": "markdown",
      "source": [
        ""
      ],
      "metadata": {
        "id": "brtpLnU4Kq3B"
      }
    },
    {
      "cell_type": "code",
      "source": [
        "movie_filter = pd.DataFrame(ratings.isbn.value_counts())\n",
        "movie_filter = movie_filter[movie_filter.isbn >= 20].index\n",
        "ratings_filtered = ratings[ratings.isbn.isin(movie_filter)].reset_index(drop=True)"
      ],
      "metadata": {
        "id": "cgkgMrBCP-T4"
      },
      "execution_count": 32,
      "outputs": []
    },
    {
      "cell_type": "code",
      "source": [
        "ratings_filtered = ratings_filtered.merge(books[['isbn','book_title']], on='isbn', how='left')"
      ],
      "metadata": {
        "id": "LfZFIupqR6N7"
      },
      "execution_count": 38,
      "outputs": []
    },
    {
      "cell_type": "code",
      "source": [
        "ratings_mtx = ratings_filtered.pivot_table(index='user_id', columns='book_title', values='rating')"
      ],
      "metadata": {
        "id": "qVjJIvLnDkvn"
      },
      "execution_count": 39,
      "outputs": []
    },
    {
      "cell_type": "code",
      "source": [
        "from scipy.sparse import csr_matrix\n",
        "ratings_mtx_sparse = csr_matrix(ratings_mtx)"
      ],
      "metadata": {
        "id": "Ddahu-uvRNOm"
      },
      "execution_count": null,
      "outputs": []
    },
    {
      "cell_type": "code",
      "source": [
        "from sklearn.neighbors import NearestNeighbors\n",
        "mdl = NearestNeighbors(algorithm='brute')\n",
        "mdl.fit(book_sparse)"
      ],
      "metadata": {
        "id": "lET5etw3SniZ"
      },
      "execution_count": null,
      "outputs": []
    }
  ],
  "metadata": {
    "kernelspec": {
      "display_name": "Python 3",
      "language": "python",
      "name": "python3"
    },
    "language_info": {
      "codemirror_mode": {
        "name": "ipython",
        "version": 3
      },
      "file_extension": ".py",
      "mimetype": "text/x-python",
      "name": "python",
      "nbconvert_exporter": "python",
      "pygments_lexer": "ipython3",
      "version": "3.7.6"
    },
    "colab": {
      "name": "book_recommender.ipynb",
      "provenance": []
    }
  },
  "nbformat": 4,
  "nbformat_minor": 0
}