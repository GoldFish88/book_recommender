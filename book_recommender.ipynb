{
 "cells": [
  {
   "cell_type": "code",
   "execution_count": 1,
   "metadata": {
    "colab": {
     "base_uri": "https://localhost:8080/"
    },
    "id": "ZKDDsMuX9Ps9",
    "outputId": "2de5c45e-cce4-4b09-dd36-1c74bc715e66"
   },
   "outputs": [],
   "source": [
    "#from google.colab import drive\n",
    "#drive.mount('/content/drive')"
   ]
  },
  {
   "cell_type": "code",
   "execution_count": 2,
   "metadata": {
    "id": "XD9HfmH_9X7S"
   },
   "outputs": [],
   "source": [
    "%matplotlib inline\n",
    "import pandas as pd\n",
    "import numpy as  np\n",
    "import matplotlib.pyplot as plt\n",
    "\n",
    "from scipy.sparse import csr_matrix\n",
    "import ipywidgets as widgets\n",
    "import requests\n",
    "from io import BytesIO\n",
    "from PIL import Image\n",
    "from IPython.display import display, clear_output\n",
    "from ipywidgets.widgets.interaction import show_inline_matplotlib_plots"
   ]
  },
  {
   "cell_type": "markdown",
   "metadata": {
    "id": "8kVbfvPDKHhH"
   },
   "source": [
    "## Dataset\n"
   ]
  },
  {
   "cell_type": "code",
   "execution_count": 3,
   "metadata": {
    "colab": {
     "base_uri": "https://localhost:8080/"
    },
    "id": "UFQqvQDv9Zkg",
    "outputId": "d6d08010-ce7b-4490-ddb5-3d738c8f9e68"
   },
   "outputs": [],
   "source": [
    "# load datasets in colab\n",
    "#books = pd.read_csv('/content/drive/MyDrive/colab_notebooks/data/Books.csv')\n",
    "#ratings = pd.read_csv('/content/drive/MyDrive/colab_notebooks/data/Ratings.csv')\n",
    "#users = pd.read_csv('/content/drive/MyDrive/colab_notebooks/data/Users.csv')"
   ]
  },
  {
   "cell_type": "code",
   "execution_count": 78,
   "metadata": {},
   "outputs": [
    {
     "name": "stderr",
     "output_type": "stream",
     "text": [
      "/home/guinto/anaconda3/lib/python3.7/site-packages/IPython/core/interactiveshell.py:3457: DtypeWarning: Columns (3) have mixed types.Specify dtype option on import or set low_memory=False.\n",
      "  exec(code_obj, self.user_global_ns, self.user_ns)\n"
     ]
    }
   ],
   "source": [
    "# load datasets local\n",
    "books = pd.read_csv('./data/Books.csv')\n",
    "ratings = pd.read_csv('./data/Ratings.csv')\n",
    "users = pd.read_csv('./data/Users.csv')"
   ]
  },
  {
   "cell_type": "code",
   "execution_count": 79,
   "metadata": {
    "colab": {
     "base_uri": "https://localhost:8080/"
    },
    "id": "2pNYf4RA-WG1",
    "outputId": "a5e8369b-6f3f-4b0e-805e-218572b8ff7e"
   },
   "outputs": [
    {
     "name": "stdout",
     "output_type": "stream",
     "text": [
      "(271360, 8)\n",
      "<class 'pandas.core.frame.DataFrame'>\n",
      "RangeIndex: 271360 entries, 0 to 271359\n",
      "Data columns (total 8 columns):\n",
      " #   Column               Non-Null Count   Dtype \n",
      "---  ------               --------------   ----- \n",
      " 0   isbn                 271360 non-null  object\n",
      " 1   book_title           271360 non-null  object\n",
      " 2   Book-Author          271359 non-null  object\n",
      " 3   Year-Of-Publication  271360 non-null  object\n",
      " 4   Publisher            271358 non-null  object\n",
      " 5   Image-URL-S          271360 non-null  object\n",
      " 6   Image-URL-M          271360 non-null  object\n",
      " 7   Image-URL-L          271357 non-null  object\n",
      "dtypes: object(8)\n",
      "memory usage: 16.6+ MB\n",
      "None\n"
     ]
    }
   ],
   "source": [
    "print(books.shape)\n",
    "books.rename(columns = {'ISBN':'isbn', 'Book-Title':'book_title'}, inplace=True)\n",
    "\n",
    "print(books.info())"
   ]
  },
  {
   "cell_type": "code",
   "execution_count": 80,
   "metadata": {
    "colab": {
     "base_uri": "https://localhost:8080/"
    },
    "id": "0zXhXDLG-cr_",
    "outputId": "8cefac58-be6c-41a1-dfd3-6c710cea9175"
   },
   "outputs": [
    {
     "name": "stdout",
     "output_type": "stream",
     "text": [
      "(1149780, 3)\n",
      "<class 'pandas.core.frame.DataFrame'>\n",
      "RangeIndex: 1149780 entries, 0 to 1149779\n",
      "Data columns (total 3 columns):\n",
      " #   Column   Non-Null Count    Dtype \n",
      "---  ------   --------------    ----- \n",
      " 0   user_id  1149780 non-null  int64 \n",
      " 1   isbn     1149780 non-null  object\n",
      " 2   rating   1149780 non-null  int64 \n",
      "dtypes: int64(2), object(1)\n",
      "memory usage: 26.3+ MB\n",
      "None\n"
     ]
    }
   ],
   "source": [
    "print(ratings.shape)\n",
    "ratings.columns = ['user_id','isbn','rating']\n",
    "\n",
    "print(ratings.info())"
   ]
  },
  {
   "cell_type": "code",
   "execution_count": 81,
   "metadata": {
    "colab": {
     "base_uri": "https://localhost:8080/"
    },
    "id": "I7nEL6ZwA4XI",
    "outputId": "8ef33d50-f220-410a-f7f5-2753a0f713da"
   },
   "outputs": [
    {
     "name": "stdout",
     "output_type": "stream",
     "text": [
      "(278858, 3)\n",
      "<class 'pandas.core.frame.DataFrame'>\n",
      "RangeIndex: 278858 entries, 0 to 278857\n",
      "Data columns (total 3 columns):\n",
      " #   Column    Non-Null Count   Dtype  \n",
      "---  ------    --------------   -----  \n",
      " 0   user_id   278858 non-null  int64  \n",
      " 1   location  278858 non-null  object \n",
      " 2   age       168096 non-null  float64\n",
      "dtypes: float64(1), int64(1), object(1)\n",
      "memory usage: 6.4+ MB\n",
      "None\n"
     ]
    }
   ],
   "source": [
    "print(users.shape)\n",
    "users.columns = ['user_id','location', 'age']\n",
    "print(users.info())"
   ]
  },
  {
   "cell_type": "code",
   "execution_count": 82,
   "metadata": {
    "colab": {
     "base_uri": "https://localhost:8080/",
     "height": 392
    },
    "id": "SARdznknEfE-",
    "outputId": "b80abbc7-08f2-4e65-87c9-c66362d55b4f"
   },
   "outputs": [
    {
     "data": {
      "text/plain": [
       "[<matplotlib.lines.Line2D at 0x7f9701d47cd0>]"
      ]
     },
     "execution_count": 82,
     "metadata": {},
     "output_type": "execute_result"
    },
    {
     "data": {
      "image/png": "[encoded data removed]",
      "text/plain": [
       "<Figure size 1440x432 with 1 Axes>"
      ]
     },
     "metadata": {
      "needs_background": "light"
     },
     "output_type": "display_data"
    }
   ],
   "source": [
    "num_book_ratings = ratings.isbn.value_counts().values\n",
    "\n",
    "plt.figure(figsize=(20,6))\n",
    "plt.plot(np.arange(0,5000), num_book_ratings[:5000])"
   ]
  },
  {
   "cell_type": "code",
   "execution_count": 83,
   "metadata": {
    "colab": {
     "base_uri": "https://localhost:8080/",
     "height": 392
    },
    "id": "i-KH6TLrF_qg",
    "outputId": "81bf36fb-2302-4535-ad07-93225c63fefb"
   },
   "outputs": [
    {
     "data": {
      "text/plain": [
       "[<matplotlib.lines.Line2D at 0x7f9701cc49d0>]"
      ]
     },
     "execution_count": 83,
     "metadata": {},
     "output_type": "execute_result"
    },
    {
     "data": {
      "image/png": "[encoded data removed]",
      "text/plain": [
       "<Figure size 1440x432 with 1 Axes>"
      ]
     },
     "metadata": {
      "needs_background": "light"
     },
     "output_type": "display_data"
    }
   ],
   "source": [
    "num_ratings = ratings.user_id.value_counts().values\n",
    "\n",
    "plt.figure(figsize=(20,6))\n",
    "plt.plot(np.arange(0,5000), num_ratings[:5000])"
   ]
  },
  {
   "cell_type": "markdown",
   "metadata": {},
   "source": [
    "### Data cleaning"
   ]
  },
  {
   "cell_type": "code",
   "execution_count": 97,
   "metadata": {},
   "outputs": [],
   "source": [
    "books['book_title'] = books['book_title'].str.lower()"
   ]
  },
  {
   "cell_type": "code",
   "execution_count": 98,
   "metadata": {},
   "outputs": [
    {
     "data": {
      "text/html": [
       "<div>\n",
       "<style scoped>\n",
       "    .dataframe tbody tr th:only-of-type {\n",
       "        vertical-align: middle;\n",
       "    }\n",
       "\n",
       "    .dataframe tbody tr th {\n",
       "        vertical-align: top;\n",
       "    }\n",
       "\n",
       "    .dataframe thead th {\n",
       "        text-align: right;\n",
       "    }\n",
       "</style>\n",
       "<table border=\"1\" class=\"dataframe\">\n",
       "  <thead>\n",
       "    <tr style=\"text-align: right;\">\n",
       "      <th></th>\n",
       "      <th>isbn</th>\n",
       "    </tr>\n",
       "    <tr>\n",
       "      <th>book_title</th>\n",
       "      <th></th>\n",
       "    </tr>\n",
       "  </thead>\n",
       "  <tbody>\n",
       "    <tr>\n",
       "      <th>selected poems</th>\n",
       "      <td>28</td>\n",
       "    </tr>\n",
       "    <tr>\n",
       "      <th>little women</th>\n",
       "      <td>26</td>\n",
       "    </tr>\n",
       "    <tr>\n",
       "      <th>wuthering heights</th>\n",
       "      <td>22</td>\n",
       "    </tr>\n",
       "    <tr>\n",
       "      <th>dracula</th>\n",
       "      <td>21</td>\n",
       "    </tr>\n",
       "    <tr>\n",
       "      <th>the secret garden</th>\n",
       "      <td>21</td>\n",
       "    </tr>\n",
       "    <tr>\n",
       "      <th>...</th>\n",
       "      <td>...</td>\n",
       "    </tr>\n",
       "    <tr>\n",
       "      <th>histoire du journalisme et des journalistes en france: du xviie siã¨cle ã  nos jours (que sais-je?)</th>\n",
       "      <td>1</td>\n",
       "    </tr>\n",
       "    <tr>\n",
       "      <th>histoire du juif errant</th>\n",
       "      <td>1</td>\n",
       "    </tr>\n",
       "    <tr>\n",
       "      <th>histoire du quebec contemporain</th>\n",
       "      <td>1</td>\n",
       "    </tr>\n",
       "    <tr>\n",
       "      <th>histoire du siã?â¨ge de lisbonne</th>\n",
       "      <td>1</td>\n",
       "    </tr>\n",
       "    <tr>\n",
       "      <th>ã?â?thique en toc</th>\n",
       "      <td>1</td>\n",
       "    </tr>\n",
       "  </tbody>\n",
       "</table>\n",
       "<p>238964 rows × 1 columns</p>\n",
       "</div>"
      ],
      "text/plain": [
       "                                                    isbn\n",
       "book_title                                              \n",
       "selected poems                                        28\n",
       "little women                                          26\n",
       "wuthering heights                                     22\n",
       "dracula                                               21\n",
       "the secret garden                                     21\n",
       "...                                                  ...\n",
       "histoire du journalisme et des journalistes en ...     1\n",
       "histoire du juif errant                                1\n",
       "histoire du quebec contemporain                        1\n",
       "histoire du siã?â¨ge de lisbonne                       1\n",
       "ã?â?thique en toc                                      1\n",
       "\n",
       "[238964 rows x 1 columns]"
      ]
     },
     "execution_count": 98,
     "metadata": {},
     "output_type": "execute_result"
    }
   ],
   "source": [
    "# book titles with multiple ISBN\n",
    "unique_book_titles = books[['isbn','book_title']].groupby('book_title').count()\n",
    "unique_book_titles.sort_values(by='isbn', ascending=False)"
   ]
  },
  {
   "cell_type": "code",
   "execution_count": 85,
   "metadata": {},
   "outputs": [
    {
     "data": {
      "text/html": [
       "<div>\n",
       "<style scoped>\n",
       "    .dataframe tbody tr th:only-of-type {\n",
       "        vertical-align: middle;\n",
       "    }\n",
       "\n",
       "    .dataframe tbody tr th {\n",
       "        vertical-align: top;\n",
       "    }\n",
       "\n",
       "    .dataframe thead th {\n",
       "        text-align: right;\n",
       "    }\n",
       "</style>\n",
       "<table border=\"1\" class=\"dataframe\">\n",
       "  <thead>\n",
       "    <tr style=\"text-align: right;\">\n",
       "      <th></th>\n",
       "      <th>book_title</th>\n",
       "    </tr>\n",
       "    <tr>\n",
       "      <th>isbn</th>\n",
       "      <th></th>\n",
       "    </tr>\n",
       "  </thead>\n",
       "  <tbody>\n",
       "    <tr>\n",
       "      <th>0000913154</th>\n",
       "      <td>1</td>\n",
       "    </tr>\n",
       "    <tr>\n",
       "      <th>0812515560</th>\n",
       "      <td>1</td>\n",
       "    </tr>\n",
       "    <tr>\n",
       "      <th>0812514440</th>\n",
       "      <td>1</td>\n",
       "    </tr>\n",
       "    <tr>\n",
       "      <th>0812514459</th>\n",
       "      <td>1</td>\n",
       "    </tr>\n",
       "    <tr>\n",
       "      <th>0812514475</th>\n",
       "      <td>1</td>\n",
       "    </tr>\n",
       "    <tr>\n",
       "      <th>...</th>\n",
       "      <td>...</td>\n",
       "    </tr>\n",
       "    <tr>\n",
       "      <th>0441505325</th>\n",
       "      <td>1</td>\n",
       "    </tr>\n",
       "    <tr>\n",
       "      <th>0441510108</th>\n",
       "      <td>1</td>\n",
       "    </tr>\n",
       "    <tr>\n",
       "      <th>0441510124</th>\n",
       "      <td>1</td>\n",
       "    </tr>\n",
       "    <tr>\n",
       "      <th>0441513549</th>\n",
       "      <td>1</td>\n",
       "    </tr>\n",
       "    <tr>\n",
       "      <th>B0002K6K8O</th>\n",
       "      <td>1</td>\n",
       "    </tr>\n",
       "  </tbody>\n",
       "</table>\n",
       "<p>271360 rows × 1 columns</p>\n",
       "</div>"
      ],
      "text/plain": [
       "            book_title\n",
       "isbn                  \n",
       "0000913154           1\n",
       "0812515560           1\n",
       "0812514440           1\n",
       "0812514459           1\n",
       "0812514475           1\n",
       "...                ...\n",
       "0441505325           1\n",
       "0441510108           1\n",
       "0441510124           1\n",
       "0441513549           1\n",
       "B0002K6K8O           1\n",
       "\n",
       "[271360 rows x 1 columns]"
      ]
     },
     "execution_count": 85,
     "metadata": {},
     "output_type": "execute_result"
    }
   ],
   "source": [
    "# ISBN with multiple book titles\n",
    "unique_isbn = books[['isbn','book_title']].groupby('isbn').count()\n",
    "unique_isbn.sort_values(by='book_title', ascending=False)"
   ]
  },
  {
   "cell_type": "code",
   "execution_count": 86,
   "metadata": {},
   "outputs": [
    {
     "data": {
      "text/plain": [
       "70405"
      ]
     },
     "execution_count": 86,
     "metadata": {},
     "output_type": "execute_result"
    }
   ],
   "source": [
    "# isbn in ratings table without info in books table\n",
    "books_isbn_set = set(books['isbn'].unique())\n",
    "ratings_isbn_set = set(ratings['isbn'].unique())\n",
    "\n",
    "isbn_no_info = ratings_isbn_set.difference(books_isbn_set)\n",
    "\n",
    "len(isbn_no_info)"
   ]
  },
  {
   "cell_type": "markdown",
   "metadata": {},
   "source": [
    "Drop entries in ratings table that do not have a match in the books table. "
   ]
  },
  {
   "cell_type": "code",
   "execution_count": 102,
   "metadata": {},
   "outputs": [],
   "source": [
    "ratings_w_info = ratings[~ratings.isbn.isin(isbn_no_info)]\n",
    "ratings_w_info = ratings_w_info.reset_index(drop=True)"
   ]
  },
  {
   "cell_type": "code",
   "execution_count": 103,
   "metadata": {},
   "outputs": [],
   "source": [
    "# add book title to ratings tables\n",
    "ratings_w_info = ratings_w_info.merge(books[['isbn','book_title']], on='isbn')"
   ]
  },
  {
   "cell_type": "code",
   "execution_count": 105,
   "metadata": {},
   "outputs": [
    {
     "data": {
      "text/plain": [
       "0"
      ]
     },
     "execution_count": 105,
     "metadata": {},
     "output_type": "execute_result"
    }
   ],
   "source": [
    "# isbn in ratings table without info in books table\n",
    "users_userid_set = set(users['user_id'].unique())\n",
    "ratings_userid_set = set(ratings['user_id'].unique())\n",
    "\n",
    "user_no_info = ratings_userid_set.difference(users_userid_set)\n",
    "\n",
    "len(user_no_info)"
   ]
  },
  {
   "cell_type": "markdown",
   "metadata": {},
   "source": [
    "Drop entries in ratings table that do not have a match in the books table. "
   ]
  },
  {
   "cell_type": "code",
   "execution_count": 87,
   "metadata": {},
   "outputs": [
    {
     "data": {
      "text/plain": [
       "1209"
      ]
     },
     "execution_count": 87,
     "metadata": {},
     "output_type": "execute_result"
    }
   ],
   "source": [
    "len(books_isbn_set.difference(ratings_isbn_set))"
   ]
  },
  {
   "cell_type": "code",
   "execution_count": 10,
   "metadata": {
    "id": "8MtsdEMWMl6H"
   },
   "outputs": [],
   "source": [
    "import recmetrics"
   ]
  },
  {
   "cell_type": "markdown",
   "metadata": {
    "id": "yBaxzguVBHDz"
   },
   "source": [
    "## Problem\n",
    "\n",
    "* Give top N book recommendations to a particular user. \n",
    "\n",
    "https://towardsdatascience.com/evaluation-metrics-for-recommender-systems-df56c6611093\n",
    "\n",
    "We assess the quality of the recommendations \n",
    "\n",
    "## Model 1 - Collaborative filtering with filtered data as features.\n",
    "\n",
    "Following [this](https://www.analyticsvidhya.com/blog/2021/06/build-book-recommendation-system-unsupervised-learning-project/) guide, we start by training a nearest neighbor model with a sparse matrix of user-book ratings. "
   ]
  },
  {
   "cell_type": "code",
   "execution_count": 106,
   "metadata": {
    "colab": {
     "base_uri": "https://localhost:8080/"
    },
    "id": "L1pkkk6AA5-H",
    "outputId": "f4c217ac-79a8-4b68-bf3d-155609e6ba4a"
   },
   "outputs": [
    {
     "name": "stdout",
     "output_type": "stream",
     "text": [
      "Number of unique user_id in ratings table:  105283\n",
      "Number of users with more than 5 ratings:  22816\n",
      "Number of users with more than 10 ratings:  13097\n",
      "Number of users with more than 20 ratings:  7369\n"
     ]
    }
   ],
   "source": [
    "print(\"Number of unique user_id in ratings table: \", ratings.user_id.nunique())\n",
    "print(\"Number of users with more than 5 ratings: \",(ratings.user_id.value_counts() >= 5).sum())\n",
    "print(\"Number of users with more than 10 ratings: \",(ratings.user_id.value_counts() >= 10).sum())\n",
    "print(\"Number of users with more than 20 ratings: \",(ratings.user_id.value_counts() >= 20).sum())"
   ]
  },
  {
   "cell_type": "code",
   "execution_count": 108,
   "metadata": {
    "colab": {
     "base_uri": "https://localhost:8080/"
    },
    "id": "O4DTdGu9DJuj",
    "outputId": "f30e0519-8d3b-41b8-dc66-20cd23b8f555"
   },
   "outputs": [
    {
     "name": "stdout",
     "output_type": "stream",
     "text": [
      "Number of unique isbn in ratings table:  340556\n",
      "Number of books with more than 5 ratings:  43765\n",
      "Number of books with more than 10 ratings:  18319\n",
      "Number of books with more than 20 ratings:  7490\n",
      "Number of books with more than 30 ratings:  4405\n"
     ]
    }
   ],
   "source": [
    "print(\"Number of unique isbn in ratings table: \", ratings.isbn.nunique())\n",
    "print(\"Number of books with more than 5 ratings: \",(ratings.isbn.value_counts() >= 5).sum())\n",
    "print(\"Number of books with more than 10 ratings: \",(ratings.isbn.value_counts() >= 10).sum())\n",
    "print(\"Number of books with more than 20 ratings: \",(ratings.isbn.value_counts() >= 20).sum())\n",
    "print(\"Number of books with more than 30 ratings: \",(ratings.isbn.value_counts() >= 30).sum())"
   ]
  },
  {
   "cell_type": "code",
   "execution_count": 116,
   "metadata": {
    "id": "cgkgMrBCP-T4"
   },
   "outputs": [],
   "source": [
    "min_num_ratings = 25\n",
    "\n",
    "book_filter = pd.DataFrame(ratings_w_info.isbn.value_counts())\n",
    "book_filter = book_filter[book_filter.isbn >= min_num_ratings].index\n",
    "ratings_filtered = ratings_w_info[ratings_w_info.isbn.isin(book_filter)].reset_index(drop=True)"
   ]
  },
  {
   "cell_type": "code",
   "execution_count": 117,
   "metadata": {},
   "outputs": [],
   "source": [
    "ratings_mtx = ratings_filtered.pivot_table(columns='user_id', index='book_title', values='rating')"
   ]
  },
  {
   "cell_type": "code",
   "execution_count": 118,
   "metadata": {},
   "outputs": [],
   "source": [
    "ratings_mtx.fillna(0, inplace=True)"
   ]
  },
  {
   "cell_type": "code",
   "execution_count": 119,
   "metadata": {
    "id": "Ddahu-uvRNOm"
   },
   "outputs": [],
   "source": [
    "ratings_mtx_sparse = csr_matrix(ratings_mtx)"
   ]
  },
  {
   "cell_type": "markdown",
   "metadata": {},
   "source": [
    "we now have a sparse user-item rating matrix."
   ]
  },
  {
   "cell_type": "code",
   "execution_count": 120,
   "metadata": {},
   "outputs": [],
   "source": [
    "books.set_index('book_title', inplace=True)"
   ]
  },
  {
   "cell_type": "markdown",
   "metadata": {},
   "source": [
    "Nearest neighbour model training"
   ]
  },
  {
   "cell_type": "code",
   "execution_count": 126,
   "metadata": {
    "id": "lET5etw3SniZ"
   },
   "outputs": [
    {
     "data": {
      "text/plain": [
       "NearestNeighbors(algorithm='brute')"
      ]
     },
     "execution_count": 126,
     "metadata": {},
     "output_type": "execute_result"
    }
   ],
   "source": [
    "from sklearn.neighbors import NearestNeighbors\n",
    "\n",
    "mdl = NearestNeighbors(algorithm='brute', n_neighbors=5)\n",
    "mdl.fit(ratings_mtx)"
   ]
  },
  {
   "cell_type": "code",
   "execution_count": 127,
   "metadata": {},
   "outputs": [],
   "source": [
    "def get_topK(title):\n",
    "    # get top K similar books\n",
    "    distances, suggestions = mdl.kneighbors(ratings_mtx.loc[title].values.reshape(1, -1))\n",
    "    \n",
    "\n",
    "    recommended_titles = books.loc[ratings_mtx.index[suggestions[0]]]\n",
    "    recommended_titles = recommended_titles[recommended_titles.index != title]\n",
    "    \n",
    "    # return title of suggested books\n",
    "    return recommended_titles"
   ]
  },
  {
   "cell_type": "markdown",
   "metadata": {},
   "source": [
    "## DEMO UI"
   ]
  },
  {
   "cell_type": "code",
   "execution_count": 128,
   "metadata": {
    "jupyter": {
     "source_hidden": true
    },
    "tags": []
   },
   "outputs": [],
   "source": [
    "# functions\n",
    "f = open(\"blank.png\", \"rb\")\n",
    "blank_image = f.read()\n",
    "\n",
    "def get_img_from_url(title):\n",
    "    # get image URL\n",
    "    img_loc = books.loc[title]['Image-URL-M']\n",
    "    \n",
    "    # handle duplicates\n",
    "    if len(img_loc) > 1:\n",
    "        img_loc = img_loc[0]\n",
    "    \n",
    "    try:\n",
    "        # get image from url\n",
    "        response = requests.get(img_loc, timeout=0.1)\n",
    "        return response.content\n",
    "    except:\n",
    "        # if url fails, return blank image\n",
    "        return blank_image\n",
    "    \n",
    "def make_reco_image(titles):\n",
    "    fig, axs = plt.subplots(ncols=3, figsize=(15,6))\n",
    "    \n",
    "    for title, ax in zip(titles, axs):\n",
    "\n",
    "        ax.set_xticks([])\n",
    "        ax.set_yticks([])\n",
    "        \n",
    "        img = Image.open(BytesIO(get_img_from_url(title)))\n",
    "        ax.imshow(img)\n",
    "        ax.set_title(title, size=12)\n",
    "    \n",
    "    fig.set_facecolor('#FFFFFF')\n",
    "    return fig, axs"
   ]
  },
  {
   "cell_type": "code",
   "execution_count": 129,
   "metadata": {
    "jupyter": {
     "source_hidden": true
    },
    "tags": []
   },
   "outputs": [
    {
     "data": {
      "application/vnd.jupyter.widget-view+json": {
       "model_id": "c8269ce842204f29b4ce2402f1f3eecd",
       "version_major": 2,
       "version_minor": 0
      },
      "text/plain": [
       "Dropdown(description='Title:', options=(\"'salem's lot\", '10 lb. penalty', '14,000 things to be happy about', '…"
      ]
     },
     "metadata": {},
     "output_type": "display_data"
    },
    {
     "data": {
      "application/vnd.jupyter.widget-view+json": {
       "model_id": "724595021b014ede87976157d3dcaae6",
       "version_major": 2,
       "version_minor": 0
      },
      "text/plain": [
       "Output()"
      ]
     },
     "metadata": {},
     "output_type": "display_data"
    }
   ],
   "source": [
    "# UI\n",
    "included_books_list = ratings_mtx.index.unique()\n",
    "\n",
    "book_selection = widgets.Dropdown(\n",
    "    options=included_books_list,\n",
    "    value=included_books_list[0],\n",
    "    description='Title:',\n",
    ")\n",
    "out = widgets.Output()\n",
    "display(book_selection, out)\n",
    "\n",
    "def on_value_change(change):\n",
    "\n",
    "    with out:\n",
    "        out.clear_output()\n",
    "        reco_list = list(get_topK(change['new']).index.unique()[:3])\n",
    "        \n",
    "        make_reco_image(reco_list)\n",
    "        \n",
    "        show_inline_matplotlib_plots()\n",
    "        \n",
    "book_selection.observe(on_value_change, names='value')"
   ]
  },
  {
   "cell_type": "code",
   "execution_count": null,
   "metadata": {},
   "outputs": [],
   "source": []
  }
 ],
 "metadata": {
  "colab": {
   "name": "book_recommender.ipynb",
   "provenance": []
  },
  "kernelspec": {
   "display_name": "Python 3 (ipykernel)",
   "language": "python",
   "name": "python3"
  },
  "language_info": {
   "codemirror_mode": {
    "name": "ipython",
    "version": 3
   },
   "file_extension": ".py",
   "mimetype": "text/x-python",
   "name": "python",
   "nbconvert_exporter": "python",
   "pygments_lexer": "ipython3",
   "version": "3.7.11"
  }
 },
 "nbformat": 4,
 "nbformat_minor": 4
}
